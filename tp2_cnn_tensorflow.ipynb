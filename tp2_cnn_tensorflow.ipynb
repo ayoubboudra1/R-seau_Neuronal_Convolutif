{
  "nbformat": 4,
  "nbformat_minor": 0,
  "metadata": {
    "colab": {
      "provenance": [],
      "gpuType": "T4"
    },
    "kernelspec": {
      "name": "python3",
      "display_name": "Python 3"
    },
    "language_info": {
      "name": "python"
    },
    "accelerator": "GPU"
  },
  "cells": [
    {
      "cell_type": "markdown",
      "source": [
        "<h1 style='text-align: center;'>TP2</h1>\n",
        "<h1 style='text-align: center;'>Réseau Neuronal Convolutif en utilisant TensorFlow </h1>"
      ],
      "metadata": {
        "id": "_AXl9gJAlGFV"
      }
    },
    {
      "cell_type": "markdown",
      "source": [
        "### L'objectif de ce TP est de créer un exemple classique de classification des chiffres en utilisant un réseau de convolution, en exploitant la célèbre bibliothèque TensorFlow."
      ],
      "metadata": {
        "id": "qeFWqlhyl_Ty"
      }
    },
    {
      "cell_type": "markdown",
      "source": [
        "## les différentes bibliothèques utilisées."
      ],
      "metadata": {
        "id": "7It6SJsbltGH"
      }
    },
    {
      "cell_type": "code",
      "execution_count": 32,
      "metadata": {
        "id": "RiQmy2nxzMYI"
      },
      "outputs": [],
      "source": [
        "import numpy as np\n",
        "import matplotlib.pyplot as plt\n",
        "import seaborn as sns\n",
        "import pandas as pd\n",
        "\n",
        "import tensorflow as tf\n",
        "import keras\n",
        "\n",
        "from sklearn.model_selection import train_test_split\n",
        "from sklearn.metrics import confusion_matrix\n",
        "\n",
        "\n",
        "from keras.models import Model, Sequential\n",
        "from keras.layers import Input, Conv2D, MaxPooling2D, BatchNormalization\n",
        "from keras.layers import UpSampling2D, Dropout, Dense,Flatten\n",
        "from keras.callbacks import TensorBoard\n",
        "from keras.optimizers import Adam\n",
        "from keras.preprocessing.image import ImageDataGenerator"
      ]
    },
    {
      "cell_type": "markdown",
      "source": [
        "## Lire la base de données MNIST et la séparer en jeux de données d'entraînement et de test."
      ],
      "metadata": {
        "id": "BIc2mRopmzYC"
      }
    },
    {
      "cell_type": "code",
      "source": [
        "(x_train,y_train), (x_test,y_test) = keras.datasets.mnist.load_data()"
      ],
      "metadata": {
        "colab": {
          "base_uri": "https://localhost:8080/",
          "height": 0
        },
        "id": "-bckSWsh08zI",
        "outputId": "54c7ae19-f009-4162-eeda-7788ef58fb1a"
      },
      "execution_count": 3,
      "outputs": [
        {
          "output_type": "stream",
          "name": "stdout",
          "text": [
            "Downloading data from https://storage.googleapis.com/tensorflow/tf-keras-datasets/mnist.npz\n",
            "11490434/11490434 [==============================] - 1s 0us/step\n"
          ]
        }
      ]
    },
    {
      "cell_type": "code",
      "source": [
        "print('Nombre des exemples pour l\\'apprentissage :', len(x_train))\n",
        "print('Nombre des exemples pour le test :', len(x_train))\n",
        "print('Image dimension :', x_train[0].shape)"
      ],
      "metadata": {
        "colab": {
          "base_uri": "https://localhost:8080/",
          "height": 0
        },
        "id": "RAfbM8sk4S1C",
        "outputId": "9f8a09d2-fb03-4935-807e-313e130c8e3d"
      },
      "execution_count": 4,
      "outputs": [
        {
          "output_type": "stream",
          "name": "stdout",
          "text": [
            "Nombre des exemples pour l'apprentissage : 60000\n",
            "Nombre des exemples pour le test : 60000\n",
            "Image dimension : (28, 28)\n"
          ]
        }
      ]
    },
    {
      "cell_type": "markdown",
      "source": [
        "## Normalisation des données"
      ],
      "metadata": {
        "id": "_uCWxRPfm8LI"
      }
    },
    {
      "cell_type": "code",
      "source": [
        "x_train = x_train/255\n",
        "x_test = x_test/255"
      ],
      "metadata": {
        "id": "3QvJViSM4WbN"
      },
      "execution_count": 5,
      "outputs": []
    },
    {
      "cell_type": "markdown",
      "source": [
        "## Visualisation de quelques images de la base de données"
      ],
      "metadata": {
        "id": "IfPK9jmsm_oV"
      }
    },
    {
      "cell_type": "code",
      "source": [
        "for i in range(10):\n",
        "      ax = plt.subplot(1, 10, i+1)\n",
        "      plt.imshow(x_train[i])\n",
        "      ax.get_xaxis().set_visible(False)\n",
        "      ax.get_yaxis().set_visible(False)\n",
        "plt.show()"
      ],
      "metadata": {
        "colab": {
          "base_uri": "https://localhost:8080/",
          "height": 79
        },
        "id": "a05t0KWI4jor",
        "outputId": "37a837e9-742b-4a2f-ffb7-dd47da79b14e"
      },
      "execution_count": 6,
      "outputs": [
        {
          "output_type": "display_data",
          "data": {
            "text/plain": [
              "<Figure size 640x480 with 10 Axes>"
            ],
            "image/png": "[encoded data removed]"
          },
          "metadata": {}
        }
      ]
    },
    {
      "cell_type": "markdown",
      "source": [
        "## Redimensionnement\n",
        "## Transformer le tableau en une dimension\n"
      ],
      "metadata": {
        "id": "fpOQbP8anXhl"
      }
    },
    {
      "cell_type": "code",
      "source": [
        "x_train = x_train.reshape(-1, 28,28,1)\n",
        "x_test = x_test.reshape(-1, 28,28,1)"
      ],
      "metadata": {
        "id": "2g-AaRSo4Y3M"
      },
      "execution_count": 7,
      "outputs": []
    },
    {
      "cell_type": "markdown",
      "source": [
        "# Générateurs d'images\n",
        "## Augmentation des images\n",
        "\n"
      ],
      "metadata": {
        "id": "AY63gR_B4YFW"
      }
    },
    {
      "cell_type": "code",
      "source": [
        "datagen = ImageDataGenerator(\n",
        "          featurewise_center=False,            # set input mean to 0 over the dataset\n",
        "          samplewise_center=False,             # set each sample mean to 0\n",
        "          featurewise_std_normalization=False, # divide inputs by std of the dataset\n",
        "          samplewise_std_normalization=False,  # divide each input by its std\n",
        "          zca_whitening=False,                 # apply ZCA whitening\n",
        "          rotation_range=20,                   # randomly rotate images in the range (degrees, 0 to 180)\n",
        "          zoom_range = 0.1,                    # Randomly zoom image\n",
        "          width_shift_range=0.1,               # randomly shift images horizontally (fraction of total width)\n",
        "          height_shift_range=0.1,              # randomly shift images vertically (fraction of total height)\n",
        "          horizontal_flip=False,               # randomly flip images\n",
        "          vertical_flip=False)                 # randomly flip images"
      ],
      "metadata": {
        "id": "QUFq2r7Q4Ylb"
      },
      "execution_count": null,
      "outputs": []
    },
    {
      "cell_type": "markdown",
      "source": [
        "# Création du Modèle de convolution\n",
        "\n"
      ],
      "metadata": {
        "id": "7zWjovtunZcm"
      }
    },
    {
      "cell_type": "code",
      "source": [
        "model = Sequential()\n",
        "\n",
        "model.add(Conv2D(filters = 32, kernel_size = (5, 5), activation='relu', padding='Same', input_shape = (28, 28, 1)))\n",
        "model.add(BatchNormalization())\n",
        "model.add(Conv2D(filters = 32, kernel_size = (5, 5), activation='relu', padding='Same'))\n",
        "model.add(BatchNormalization())\n",
        "model.add(MaxPooling2D(strides=(2,2)))\n",
        "model.add(Dropout(0.25))\n",
        "model.add(Conv2D(filters = 64, kernel_size = (3, 3), activation='relu'))\n",
        "model.add(BatchNormalization())\n",
        "model.add(Conv2D(filters = 64, kernel_size = (3, 3), activation='relu'))\n",
        "model.add(BatchNormalization())\n",
        "model.add(MaxPooling2D(strides=(2,2)))\n",
        "model.add(Dropout(0.25))\n",
        "\n",
        "model.add(Flatten())\n",
        "model.add(Dense(units=1024, activation='relu'))\n",
        "model.add(Dropout(0.25))\n",
        "model.add(Dense(units=1024, activation='relu'))\n",
        "model.add(Dropout(0.25))\n",
        "\n",
        "model.add(Dense(units=10, activation='softmax'))"
      ],
      "metadata": {
        "id": "9RQR9qfK8pjO"
      },
      "execution_count": 16,
      "outputs": []
    },
    {
      "cell_type": "markdown",
      "source": [
        "# Récapitulatif de l'architecture modèle"
      ],
      "metadata": {
        "id": "IjG80Tjh45DO"
      }
    },
    {
      "cell_type": "code",
      "source": [
        "model.summary()"
      ],
      "metadata": {
        "colab": {
          "base_uri": "https://localhost:8080/",
          "height": 0
        },
        "id": "SFASioYX_xAo",
        "outputId": "6ed2e3fc-e676-45d6-fa6b-1ab3472ed5de"
      },
      "execution_count": 17,
      "outputs": [
        {
          "output_type": "stream",
          "name": "stdout",
          "text": [
            "Model: \"sequential\"\n",
            "_________________________________________________________________\n",
            " Layer (type)                Output Shape              Param #   \n",
            "=================================================================\n",
            " conv2d (Conv2D)             (None, 28, 28, 32)        832       \n",
            "                                                                 \n",
            " batch_normalization (Batch  (None, 28, 28, 32)        128       \n",
            " Normalization)                                                  \n",
            "                                                                 \n",
            " conv2d_1 (Conv2D)           (None, 28, 28, 32)        25632     \n",
            "                                                                 \n",
            " batch_normalization_1 (Bat  (None, 28, 28, 32)        128       \n",
            " chNormalization)                                                \n",
            "                                                                 \n",
            " max_pooling2d (MaxPooling2  (None, 14, 14, 32)        0         \n",
            " D)                                                              \n",
            "                                                                 \n",
            " dropout (Dropout)           (None, 14, 14, 32)        0         \n",
            "                                                                 \n",
            " conv2d_2 (Conv2D)           (None, 12, 12, 64)        18496     \n",
            "                                                                 \n",
            " batch_normalization_2 (Bat  (None, 12, 12, 64)        256       \n",
            " chNormalization)                                                \n",
            "                                                                 \n",
            " conv2d_3 (Conv2D)           (None, 10, 10, 64)        36928     \n",
            "                                                                 \n",
            " batch_normalization_3 (Bat  (None, 10, 10, 64)        256       \n",
            " chNormalization)                                                \n",
            "                                                                 \n",
            " max_pooling2d_1 (MaxPoolin  (None, 5, 5, 64)          0         \n",
            " g2D)                                                            \n",
            "                                                                 \n",
            " dropout_1 (Dropout)         (None, 5, 5, 64)          0         \n",
            "                                                                 \n",
            " flatten (Flatten)           (None, 1600)              0         \n",
            "                                                                 \n",
            " dense (Dense)               (None, 1024)              1639424   \n",
            "                                                                 \n",
            " dropout_2 (Dropout)         (None, 1024)              0         \n",
            "                                                                 \n",
            " dense_1 (Dense)             (None, 1024)              1049600   \n",
            "                                                                 \n",
            " dropout_3 (Dropout)         (None, 1024)              0         \n",
            "                                                                 \n",
            " dense_2 (Dense)             (None, 10)                10250     \n",
            "                                                                 \n",
            "=================================================================\n",
            "Total params: 2781930 (10.61 MB)\n",
            "Trainable params: 2781546 (10.61 MB)\n",
            "Non-trainable params: 384 (1.50 KB)\n",
            "_________________________________________________________________\n"
          ]
        }
      ]
    },
    {
      "cell_type": "markdown",
      "source": [
        "# Sélection de l'optimiser pour la decente de gradient"
      ],
      "metadata": {
        "id": "SxmDfZeX6sd8"
      }
    },
    {
      "cell_type": "code",
      "source": [
        "model.compile(loss='categorical_crossentropy', optimizer = Adam(lr=0.0001), metrics=[\"accuracy\"])"
      ],
      "metadata": {
        "colab": {
          "base_uri": "https://localhost:8080/",
          "height": 0
        },
        "id": "qurX8IPaADSH",
        "outputId": "9588a567-5808-4f73-e8f5-b7d5b8f072f1"
      },
      "execution_count": 18,
      "outputs": [
        {
          "output_type": "stream",
          "name": "stderr",
          "text": [
            "WARNING:absl:`lr` is deprecated in Keras optimizer, please use `learning_rate` or use the legacy optimizer, e.g.,tf.keras.optimizers.legacy.Adam.\n"
          ]
        }
      ]
    },
    {
      "cell_type": "code",
      "source": [
        "y_train  = pd.get_dummies(y_train).values\n",
        "y_test  = pd.get_dummies(y_test).values"
      ],
      "metadata": {
        "id": "EAN6Y1fQDxVh"
      },
      "execution_count": 19,
      "outputs": []
    },
    {
      "cell_type": "markdown",
      "source": [
        "# Entrainement du modèle et évaluation"
      ],
      "metadata": {
        "id": "z7hELUHB7ZUY"
      }
    },
    {
      "cell_type": "code",
      "source": [
        "# Démarrage de l'entrainement du réseau\n",
        "hist = model.fit_generator(datagen.flow(x_train, y_train, batch_size=32),\n",
        "                           steps_per_epoch=1000,             # nombre image entrainement / batch_size\n",
        "                           epochs=25,                        # nombre de boucle à réaliser sur le jeu de données complet\n",
        "                           verbose=1,                        # verbosité\n",
        "                           validation_data=(  x_test, y_test))   # données de validation (X(données) et y(labels)"
      ],
      "metadata": {
        "colab": {
          "base_uri": "https://localhost:8080/",
          "height": 0
        },
        "id": "_qErP7J4AEzw",
        "outputId": "eb399584-c570-4980-fb13-c46c8022244c"
      },
      "execution_count": 25,
      "outputs": [
        {
          "output_type": "stream",
          "name": "stdout",
          "text": [
            "Epoch 1/25\n"
          ]
        },
        {
          "output_type": "stream",
          "name": "stderr",
          "text": [
            "<ipython-input-25-8374ae2874f0>:2: UserWarning: `Model.fit_generator` is deprecated and will be removed in a future version. Please use `Model.fit`, which supports generators.\n",
            "  hist = model.fit_generator(datagen.flow(x_train, y_train, batch_size=32),\n"
          ]
        },
        {
          "output_type": "stream",
          "name": "stdout",
          "text": [
            "1000/1000 [==============================] - 32s 18ms/step - loss: 0.3911 - accuracy: 0.8856 - val_loss: 0.0478 - val_accuracy: 0.9860\n",
            "Epoch 2/25\n",
            "1000/1000 [==============================] - 18s 18ms/step - loss: 0.1571 - accuracy: 0.9560 - val_loss: 0.0553 - val_accuracy: 0.9835\n",
            "Epoch 3/25\n",
            "1000/1000 [==============================] - 19s 19ms/step - loss: 0.1392 - accuracy: 0.9617 - val_loss: 0.0394 - val_accuracy: 0.9880\n",
            "Epoch 4/25\n",
            "1000/1000 [==============================] - 19s 19ms/step - loss: 0.1281 - accuracy: 0.9662 - val_loss: 0.0391 - val_accuracy: 0.9886\n",
            "Epoch 5/25\n",
            "1000/1000 [==============================] - 21s 21ms/step - loss: 0.1143 - accuracy: 0.9695 - val_loss: 0.0530 - val_accuracy: 0.9860\n",
            "Epoch 6/25\n",
            "1000/1000 [==============================] - 25s 25ms/step - loss: 0.1050 - accuracy: 0.9727 - val_loss: 0.0374 - val_accuracy: 0.9891\n",
            "Epoch 7/25\n",
            "1000/1000 [==============================] - 17s 17ms/step - loss: 0.0970 - accuracy: 0.9743 - val_loss: 0.0263 - val_accuracy: 0.9914\n",
            "Epoch 8/25\n",
            "1000/1000 [==============================] - 22s 22ms/step - loss: 0.0944 - accuracy: 0.9747 - val_loss: 0.0291 - val_accuracy: 0.9925\n",
            "Epoch 9/25\n",
            "1000/1000 [==============================] - 18s 18ms/step - loss: 0.0914 - accuracy: 0.9764 - val_loss: 0.0253 - val_accuracy: 0.9928\n",
            "Epoch 10/25\n",
            "1000/1000 [==============================] - 20s 20ms/step - loss: 0.0829 - accuracy: 0.9774 - val_loss: 0.0476 - val_accuracy: 0.9872\n",
            "Epoch 11/25\n",
            "1000/1000 [==============================] - 21s 21ms/step - loss: 0.0810 - accuracy: 0.9792 - val_loss: 0.0353 - val_accuracy: 0.9892\n",
            "Epoch 12/25\n",
            "1000/1000 [==============================] - 19s 19ms/step - loss: 0.0760 - accuracy: 0.9801 - val_loss: 0.0367 - val_accuracy: 0.9904\n",
            "Epoch 13/25\n",
            "1000/1000 [==============================] - 17s 17ms/step - loss: 0.0738 - accuracy: 0.9810 - val_loss: 0.0365 - val_accuracy: 0.9901\n",
            "Epoch 14/25\n",
            "1000/1000 [==============================] - 18s 18ms/step - loss: 0.0703 - accuracy: 0.9820 - val_loss: 0.0291 - val_accuracy: 0.9925\n",
            "Epoch 15/25\n",
            "1000/1000 [==============================] - 17s 17ms/step - loss: 0.0603 - accuracy: 0.9841 - val_loss: 0.0292 - val_accuracy: 0.9916\n",
            "Epoch 16/25\n",
            "1000/1000 [==============================] - 20s 20ms/step - loss: 0.0600 - accuracy: 0.9843 - val_loss: 0.0254 - val_accuracy: 0.9934\n",
            "Epoch 17/25\n",
            "1000/1000 [==============================] - 17s 17ms/step - loss: 0.0595 - accuracy: 0.9846 - val_loss: 0.0213 - val_accuracy: 0.9934\n",
            "Epoch 18/25\n",
            "1000/1000 [==============================] - 17s 17ms/step - loss: 0.0610 - accuracy: 0.9845 - val_loss: 0.0176 - val_accuracy: 0.9951\n",
            "Epoch 19/25\n",
            "1000/1000 [==============================] - 17s 17ms/step - loss: 0.0577 - accuracy: 0.9838 - val_loss: 0.0242 - val_accuracy: 0.9921\n",
            "Epoch 20/25\n",
            "1000/1000 [==============================] - 18s 18ms/step - loss: 0.0535 - accuracy: 0.9846 - val_loss: 0.0167 - val_accuracy: 0.9954\n",
            "Epoch 21/25\n",
            "1000/1000 [==============================] - 17s 17ms/step - loss: 0.0519 - accuracy: 0.9859 - val_loss: 0.0323 - val_accuracy: 0.9911\n",
            "Epoch 22/25\n",
            "1000/1000 [==============================] - 20s 20ms/step - loss: 0.0576 - accuracy: 0.9848 - val_loss: 0.0196 - val_accuracy: 0.9947\n",
            "Epoch 23/25\n",
            "1000/1000 [==============================] - 17s 17ms/step - loss: 0.0511 - accuracy: 0.9854 - val_loss: 0.0294 - val_accuracy: 0.9912\n",
            "Epoch 24/25\n",
            "1000/1000 [==============================] - 18s 18ms/step - loss: 0.0509 - accuracy: 0.9860 - val_loss: 0.0194 - val_accuracy: 0.9946\n",
            "Epoch 25/25\n",
            "1000/1000 [==============================] - 17s 17ms/step - loss: 0.0492 - accuracy: 0.9875 - val_loss: 0.0231 - val_accuracy: 0.9932\n"
          ]
        }
      ]
    },
    {
      "cell_type": "markdown",
      "source": [
        "# Évaluation du modèle"
      ],
      "metadata": {
        "id": "jWkPDsk47f47"
      }
    },
    {
      "cell_type": "code",
      "source": [
        "final_loss, final_acc = model.evaluate(x_test, y_test, verbose=0)\n",
        "print(\"Final loss: {0:.4f}, final accuracy: {1:.4f}\".format(final_loss, final_acc))"
      ],
      "metadata": {
        "id": "Q_Wb1LewHiMx",
        "colab": {
          "base_uri": "https://localhost:8080/",
          "height": 0
        },
        "outputId": "a6e84653-e142-4ece-c8f4-96d7b8baea2e"
      },
      "execution_count": 26,
      "outputs": [
        {
          "output_type": "stream",
          "name": "stdout",
          "text": [
            "Final loss: 0.0231, final accuracy: 0.9932\n"
          ]
        }
      ]
    },
    {
      "cell_type": "markdown",
      "source": [
        "# Affichage des courbes d'apprentissages"
      ],
      "metadata": {
        "id": "vu0vUbbO7qpX"
      }
    },
    {
      "cell_type": "code",
      "source": [
        "plt.plot(hist.history['loss'], color='b')\n",
        "plt.plot(hist.history['val_loss'], color='r')\n",
        "plt.show()\n"
      ],
      "metadata": {
        "id": "n4DFli78Hoj7",
        "colab": {
          "base_uri": "https://localhost:8080/",
          "height": 430
        },
        "outputId": "be653351-730e-4993-bb49-fbcd9e9787d8"
      },
      "execution_count": 27,
      "outputs": [
        {
          "output_type": "display_data",
          "data": {
            "text/plain": [
              "<Figure size 640x480 with 1 Axes>"
            ],
            "image/png": "[encoded data removed]"
          },
          "metadata": {}
        }
      ]
    },
    {
      "cell_type": "code",
      "source": [
        "plt.plot(hist.history['accuracy'], color='b')\n",
        "plt.plot(hist.history['val_accuracy'], color='r')\n",
        "plt.show()"
      ],
      "metadata": {
        "colab": {
          "base_uri": "https://localhost:8080/",
          "height": 433
        },
        "id": "0Zdj_fureXZc",
        "outputId": "fe21e8fa-dfef-4f0c-e001-d8a6f310030e"
      },
      "execution_count": 28,
      "outputs": [
        {
          "output_type": "display_data",
          "data": {
            "text/plain": [
              "<Figure size 640x480 with 1 Axes>"
            ],
            "image/png": "[encoded data removed]"
          },
          "metadata": {}
        }
      ]
    },
    {
      "cell_type": "markdown",
      "source": [
        "# Prédictions sur le jeu de test"
      ],
      "metadata": {
        "id": "FcMDp9ei7xJ0"
      }
    },
    {
      "cell_type": "code",
      "source": [
        "y_predicted = model.predict(x_test)"
      ],
      "metadata": {
        "colab": {
          "base_uri": "https://localhost:8080/",
          "height": 0
        },
        "id": "dOdNfEQegE7P",
        "outputId": "b929ce2a-e39a-481d-f919-ec3644c41a89"
      },
      "execution_count": 29,
      "outputs": [
        {
          "output_type": "stream",
          "name": "stdout",
          "text": [
            "313/313 [==============================] - 1s 2ms/step\n"
          ]
        }
      ]
    },
    {
      "cell_type": "code",
      "source": [
        "y_predicted_max = np.argmax(y_predicted,axis=1)\n",
        "y_test_max = np.argmax(y_test,axis=1)"
      ],
      "metadata": {
        "id": "yQYx-NEPgaDx"
      },
      "execution_count": 30,
      "outputs": []
    },
    {
      "cell_type": "markdown",
      "source": [
        "## Affichage du Matrice de confusion"
      ],
      "metadata": {
        "id": "qN9N3WtF8LNj"
      }
    },
    {
      "cell_type": "code",
      "source": [
        "cm = confusion_matrix(y_test_max,y_predicted_max)\n",
        "sns.heatmap(cm, annot=True, fmt='d', cmap='Blues')\n",
        "plt.show()"
      ],
      "metadata": {
        "colab": {
          "base_uri": "https://localhost:8080/",
          "height": 430
        },
        "id": "prBzhn6zg6-8",
        "outputId": "3930e02d-621c-4be9-8de0-f977669ee3a0"
      },
      "execution_count": 31,
      "outputs": [
        {
          "output_type": "display_data",
          "data": {
            "text/plain": [
              "<Figure size 640x480 with 2 Axes>"
            ],
            "image/png": "[encoded data removed]"
          },
          "metadata": {}
        }
      ]
    }
  ]
}